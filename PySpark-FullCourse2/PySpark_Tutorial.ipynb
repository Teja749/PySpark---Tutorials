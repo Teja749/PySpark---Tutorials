{
 "cells": [
  {
   "cell_type": "code",
   "execution_count": 0,
   "metadata": {
    "application/vnd.databricks.v1+cell": {
     "cellMetadata": {},
     "inputWidgets": {},
     "nuid": "07ada9d2-f0b8-4a6a-b229-dc0f06bbf31d",
     "showTitle": true,
     "tableResultSettingsMap": {},
     "title": "CSV File Format Path"
    }
   },
   "outputs": [],
   "source": [
    "/FileStore/tables/Emp_1.csv"
   ]
  },
  {
   "cell_type": "code",
   "execution_count": 0,
   "metadata": {
    "application/vnd.databricks.v1+cell": {
     "cellMetadata": {
      "byteLimit": 2048000,
      "rowLimit": 10000
     },
     "inputWidgets": {},
     "nuid": "336e4d62-e5a6-4494-aa83-ecfa3ccfee1e",
     "showTitle": true,
     "tableResultSettingsMap": {},
     "title": "Reading the CSV File"
    }
   },
   "outputs": [],
   "source": [
    "df = spark.read.csv('/FileStore/tables/Emp_1.csv')"
   ]
  },
  {
   "cell_type": "code",
   "execution_count": 0,
   "metadata": {
    "application/vnd.databricks.v1+cell": {
     "cellMetadata": {
      "byteLimit": 2048000,
      "rowLimit": 10000
     },
     "inputWidgets": {},
     "nuid": "0085a1d6-0b7a-4cbd-83bb-a5f98f3b3f5f",
     "showTitle": false,
     "tableResultSettingsMap": {},
     "title": ""
    }
   },
   "outputs": [
    {
     "output_type": "stream",
     "name": "stdout",
     "output_type": "stream",
     "text": [
      "+------+------+------+-------+----+-----+\n|   _c0|   _c1|   _c2|    _c3| _c4|  _c5|\n+------+------+------+-------+----+-----+\n|emp_id|  name|salary|address| loc|email|\n|     1|manish| 10000|  india|null| null|\n|     2|  rani| 20000|    usa|null| null|\n|     3| rinku| 55000|  india|null| null|\n|     4|  neha| 12000|    usa|null| null|\n|     5|  null| 20000|    usa|null| null|\n|     6| rahul|  null|  india|null| null|\n|     1|manish| 10000|  india|null| null|\n|     2|  rani| 20000|    usa|null| null|\n|     3| rinku| 55000|  india|null| null|\n|     4|  neha| 12000|    usa|null| null|\n|     5|  null| 20000|    usa|null| null|\n|     6| rahul|  null|  india|null| null|\n+------+------+------+-------+----+-----+\n\n"
     ]
    }
   ],
   "source": [
    "df.show()"
   ]
  },
  {
   "cell_type": "code",
   "execution_count": 0,
   "metadata": {
    "application/vnd.databricks.v1+cell": {
     "cellMetadata": {
      "byteLimit": 2048000,
      "rowLimit": 10000
     },
     "inputWidgets": {},
     "nuid": "9feb691e-9112-4aa0-a95a-c8dd491afd38",
     "showTitle": false,
     "tableResultSettingsMap": {},
     "title": ""
    }
   },
   "outputs": [
    {
     "output_type": "display_data",
     "data": {
      "text/html": [
       "<style scoped>\n",
       "  .table-result-container {\n",
       "    max-height: 300px;\n",
       "    overflow: auto;\n",
       "  }\n",
       "  table, th, td {\n",
       "    border: 1px solid black;\n",
       "    border-collapse: collapse;\n",
       "  }\n",
       "  th, td {\n",
       "    padding: 5px;\n",
       "  }\n",
       "  th {\n",
       "    text-align: left;\n",
       "  }\n",
       "</style><div class='table-result-container'><table class='table-result'><thead style='background-color: white'><tr><th>_c0</th><th>_c1</th><th>_c2</th><th>_c3</th><th>_c4</th><th>_c5</th></tr></thead><tbody><tr><td>emp_id</td><td>name</td><td>salary</td><td>address</td><td>loc</td><td>email</td></tr><tr><td>1</td><td>manish</td><td>10000</td><td>india</td><td>null</td><td>null</td></tr><tr><td>2</td><td>rani</td><td>20000</td><td>usa</td><td>null</td><td>null</td></tr><tr><td>3</td><td>rinku</td><td>55000</td><td>india</td><td>null</td><td>null</td></tr><tr><td>4</td><td>neha</td><td>12000</td><td>usa</td><td>null</td><td>null</td></tr><tr><td>5</td><td>null</td><td>20000</td><td>usa</td><td>null</td><td>null</td></tr><tr><td>6</td><td>rahul</td><td>null</td><td>india</td><td>null</td><td>null</td></tr><tr><td>1</td><td>manish</td><td>10000</td><td>india</td><td>null</td><td>null</td></tr><tr><td>2</td><td>rani</td><td>20000</td><td>usa</td><td>null</td><td>null</td></tr><tr><td>3</td><td>rinku</td><td>55000</td><td>india</td><td>null</td><td>null</td></tr><tr><td>4</td><td>neha</td><td>12000</td><td>usa</td><td>null</td><td>null</td></tr><tr><td>5</td><td>null</td><td>20000</td><td>usa</td><td>null</td><td>null</td></tr><tr><td>6</td><td>rahul</td><td>null</td><td>india</td><td>null</td><td>null</td></tr></tbody></table></div>"
      ]
     },
     "metadata": {
      "application/vnd.databricks.v1+output": {
       "addedWidgets": {},
       "aggData": [],
       "aggError": "",
       "aggOverflow": false,
       "aggSchema": [],
       "aggSeriesLimitReached": false,
       "aggType": "",
       "arguments": {},
       "columnCustomDisplayInfos": {},
       "data": [
        [
         "emp_id",
         "name",
         "salary",
         "address",
         "loc",
         "email"
        ],
        [
         "1",
         "manish",
         "10000",
         "india",
         null,
         null
        ],
        [
         "2",
         "rani",
         "20000",
         "usa",
         null,
         null
        ],
        [
         "3",
         "rinku",
         "55000",
         "india",
         null,
         null
        ],
        [
         "4",
         "neha",
         "12000",
         "usa",
         null,
         null
        ],
        [
         "5",
         null,
         "20000",
         "usa",
         null,
         null
        ],
        [
         "6",
         "rahul",
         null,
         "india",
         null,
         null
        ],
        [
         "1",
         "manish",
         "10000",
         "india",
         null,
         null
        ],
        [
         "2",
         "rani",
         "20000",
         "usa",
         null,
         null
        ],
        [
         "3",
         "rinku",
         "55000",
         "india",
         null,
         null
        ],
        [
         "4",
         "neha",
         "12000",
         "usa",
         null,
         null
        ],
        [
         "5",
         null,
         "20000",
         "usa",
         null,
         null
        ],
        [
         "6",
         "rahul",
         null,
         "india",
         null,
         null
        ]
       ],
       "datasetInfos": [],
       "dbfsResultPath": null,
       "isJsonSchema": true,
       "metadata": {},
       "overflow": false,
       "plotOptions": {
        "customPlotOptions": {},
        "displayType": "table",
        "pivotAggregation": null,
        "pivotColumns": null,
        "xColumns": null,
        "yColumns": null
       },
       "removedWidgets": [],
       "schema": [
        {
         "metadata": "{}",
         "name": "_c0",
         "type": "\"string\""
        },
        {
         "metadata": "{}",
         "name": "_c1",
         "type": "\"string\""
        },
        {
         "metadata": "{}",
         "name": "_c2",
         "type": "\"string\""
        },
        {
         "metadata": "{}",
         "name": "_c3",
         "type": "\"string\""
        },
        {
         "metadata": "{}",
         "name": "_c4",
         "type": "\"string\""
        },
        {
         "metadata": "{}",
         "name": "_c5",
         "type": "\"string\""
        }
       ],
       "type": "table"
      }
     },
     "output_type": "display_data"
    }
   ],
   "source": [
    "df.display()"
   ]
  },
  {
   "cell_type": "markdown",
   "metadata": {
    "application/vnd.databricks.v1+cell": {
     "cellMetadata": {},
     "inputWidgets": {},
     "nuid": "6ee4149a-82f5-4cdf-ab63-9140d358801c",
     "showTitle": false,
     "tableResultSettingsMap": {},
     "title": ""
    }
   },
   "source": [
    "DataFrame With Header"
   ]
  },
  {
   "cell_type": "code",
   "execution_count": 0,
   "metadata": {
    "application/vnd.databricks.v1+cell": {
     "cellMetadata": {
      "byteLimit": 2048000,
      "rowLimit": 10000
     },
     "inputWidgets": {},
     "nuid": "66422d79-ed28-4da6-b5df-b183c58c3a83",
     "showTitle": true,
     "tableResultSettingsMap": {},
     "title": "DataFrame With Header"
    }
   },
   "outputs": [],
   "source": [
    "df1 = spark.read.csv('/FileStore/tables/Emp_1.csv',header = True)"
   ]
  },
  {
   "cell_type": "code",
   "execution_count": 0,
   "metadata": {
    "application/vnd.databricks.v1+cell": {
     "cellMetadata": {
      "byteLimit": 2048000,
      "rowLimit": 10000
     },
     "inputWidgets": {},
     "nuid": "5addb159-f970-405c-b5d1-ed527fb06e59",
     "showTitle": false,
     "tableResultSettingsMap": {},
     "title": ""
    }
   },
   "outputs": [
    {
     "output_type": "display_data",
     "data": {
      "text/html": [
       "<style scoped>\n",
       "  .table-result-container {\n",
       "    max-height: 300px;\n",
       "    overflow: auto;\n",
       "  }\n",
       "  table, th, td {\n",
       "    border: 1px solid black;\n",
       "    border-collapse: collapse;\n",
       "  }\n",
       "  th, td {\n",
       "    padding: 5px;\n",
       "  }\n",
       "  th {\n",
       "    text-align: left;\n",
       "  }\n",
       "</style><div class='table-result-container'><table class='table-result'><thead style='background-color: white'><tr><th>emp_id</th><th>name</th><th>salary</th><th>address</th><th>loc</th><th>email</th></tr></thead><tbody><tr><td>1</td><td>manish</td><td>10000</td><td>india</td><td>null</td><td>null</td></tr><tr><td>2</td><td>rani</td><td>20000</td><td>usa</td><td>null</td><td>null</td></tr><tr><td>3</td><td>rinku</td><td>55000</td><td>india</td><td>null</td><td>null</td></tr><tr><td>4</td><td>neha</td><td>12000</td><td>usa</td><td>null</td><td>null</td></tr><tr><td>5</td><td>null</td><td>20000</td><td>usa</td><td>null</td><td>null</td></tr><tr><td>6</td><td>rahul</td><td>null</td><td>india</td><td>null</td><td>null</td></tr><tr><td>1</td><td>manish</td><td>10000</td><td>india</td><td>null</td><td>null</td></tr><tr><td>2</td><td>rani</td><td>20000</td><td>usa</td><td>null</td><td>null</td></tr><tr><td>3</td><td>rinku</td><td>55000</td><td>india</td><td>null</td><td>null</td></tr><tr><td>4</td><td>neha</td><td>12000</td><td>usa</td><td>null</td><td>null</td></tr><tr><td>5</td><td>null</td><td>20000</td><td>usa</td><td>null</td><td>null</td></tr><tr><td>6</td><td>rahul</td><td>null</td><td>india</td><td>null</td><td>null</td></tr></tbody></table></div>"
      ]
     },
     "metadata": {
      "application/vnd.databricks.v1+output": {
       "addedWidgets": {},
       "aggData": [],
       "aggError": "",
       "aggOverflow": false,
       "aggSchema": [],
       "aggSeriesLimitReached": false,
       "aggType": "",
       "arguments": {},
       "columnCustomDisplayInfos": {},
       "data": [
        [
         "1",
         "manish",
         "10000",
         "india",
         null,
         null
        ],
        [
         "2",
         "rani",
         "20000",
         "usa",
         null,
         null
        ],
        [
         "3",
         "rinku",
         "55000",
         "india",
         null,
         null
        ],
        [
         "4",
         "neha",
         "12000",
         "usa",
         null,
         null
        ],
        [
         "5",
         null,
         "20000",
         "usa",
         null,
         null
        ],
        [
         "6",
         "rahul",
         null,
         "india",
         null,
         null
        ],
        [
         "1",
         "manish",
         "10000",
         "india",
         null,
         null
        ],
        [
         "2",
         "rani",
         "20000",
         "usa",
         null,
         null
        ],
        [
         "3",
         "rinku",
         "55000",
         "india",
         null,
         null
        ],
        [
         "4",
         "neha",
         "12000",
         "usa",
         null,
         null
        ],
        [
         "5",
         null,
         "20000",
         "usa",
         null,
         null
        ],
        [
         "6",
         "rahul",
         null,
         "india",
         null,
         null
        ]
       ],
       "datasetInfos": [],
       "dbfsResultPath": null,
       "isJsonSchema": true,
       "metadata": {},
       "overflow": false,
       "plotOptions": {
        "customPlotOptions": {},
        "displayType": "table",
        "pivotAggregation": null,
        "pivotColumns": null,
        "xColumns": null,
        "yColumns": null
       },
       "removedWidgets": [],
       "schema": [
        {
         "metadata": "{}",
         "name": "emp_id",
         "type": "\"string\""
        },
        {
         "metadata": "{}",
         "name": "name",
         "type": "\"string\""
        },
        {
         "metadata": "{}",
         "name": "salary",
         "type": "\"string\""
        },
        {
         "metadata": "{}",
         "name": "address",
         "type": "\"string\""
        },
        {
         "metadata": "{}",
         "name": "loc",
         "type": "\"string\""
        },
        {
         "metadata": "{}",
         "name": "email",
         "type": "\"string\""
        }
       ],
       "type": "table"
      }
     },
     "output_type": "display_data"
    }
   ],
   "source": [
    "display(df1)"
   ]
  },
  {
   "cell_type": "markdown",
   "metadata": {
    "application/vnd.databricks.v1+cell": {
     "cellMetadata": {},
     "inputWidgets": {},
     "nuid": "34c3b2d3-6e7d-4a22-89c8-b1f30efd92f6",
     "showTitle": false,
     "tableResultSettingsMap": {},
     "title": ""
    }
   },
   "source": [
    "Read Schema"
   ]
  },
  {
   "cell_type": "code",
   "execution_count": 0,
   "metadata": {
    "application/vnd.databricks.v1+cell": {
     "cellMetadata": {
      "byteLimit": 2048000,
      "rowLimit": 10000
     },
     "inputWidgets": {},
     "nuid": "da7b27be-2f05-495b-af9f-5b6162197baf",
     "showTitle": true,
     "tableResultSettingsMap": {},
     "title": "Read Schema"
    }
   },
   "outputs": [
    {
     "output_type": "stream",
     "name": "stdout",
     "output_type": "stream",
     "text": [
      "root\n |-- emp_id: string (nullable = true)\n |-- name: string (nullable = true)\n |-- salary: string (nullable = true)\n |-- address: string (nullable = true)\n |-- loc: string (nullable = true)\n |-- email: string (nullable = true)\n\n"
     ]
    }
   ],
   "source": [
    "df1.printSchema()"
   ]
  },
  {
   "cell_type": "markdown",
   "metadata": {
    "application/vnd.databricks.v1+cell": {
     "cellMetadata": {},
     "inputWidgets": {},
     "nuid": "542eeda0-975c-49dc-84a7-015d40340fc7",
     "showTitle": false,
     "tableResultSettingsMap": {},
     "title": ""
    }
   },
   "source": [
    "DataFrame with Header and Proper Schema"
   ]
  },
  {
   "cell_type": "code",
   "execution_count": 0,
   "metadata": {
    "application/vnd.databricks.v1+cell": {
     "cellMetadata": {
      "byteLimit": 2048000,
      "rowLimit": 10000
     },
     "inputWidgets": {},
     "nuid": "9a531fe5-860d-47f8-8ddf-fc22e588695d",
     "showTitle": true,
     "tableResultSettingsMap": {},
     "title": "DataFrame with Header and Proper Schema"
    }
   },
   "outputs": [],
   "source": [
    "df2 = spark.read.csv('/FileStore/tables/Emp_1.csv',header = True,inferSchema= True)"
   ]
  },
  {
   "cell_type": "code",
   "execution_count": 0,
   "metadata": {
    "application/vnd.databricks.v1+cell": {
     "cellMetadata": {
      "byteLimit": 2048000,
      "rowLimit": 10000
     },
     "inputWidgets": {},
     "nuid": "18526de6-824e-4a88-8046-cdfbdd0156c5",
     "showTitle": false,
     "tableResultSettingsMap": {},
     "title": ""
    }
   },
   "outputs": [
    {
     "output_type": "display_data",
     "data": {
      "text/html": [
       "<style scoped>\n",
       "  .table-result-container {\n",
       "    max-height: 300px;\n",
       "    overflow: auto;\n",
       "  }\n",
       "  table, th, td {\n",
       "    border: 1px solid black;\n",
       "    border-collapse: collapse;\n",
       "  }\n",
       "  th, td {\n",
       "    padding: 5px;\n",
       "  }\n",
       "  th {\n",
       "    text-align: left;\n",
       "  }\n",
       "</style><div class='table-result-container'><table class='table-result'><thead style='background-color: white'><tr><th>emp_id</th><th>name</th><th>salary</th><th>address</th><th>loc</th><th>email</th></tr></thead><tbody><tr><td>1</td><td>manish</td><td>10000</td><td>india</td><td>null</td><td>null</td></tr><tr><td>2</td><td>rani</td><td>20000</td><td>usa</td><td>null</td><td>null</td></tr><tr><td>3</td><td>rinku</td><td>55000</td><td>india</td><td>null</td><td>null</td></tr><tr><td>4</td><td>neha</td><td>12000</td><td>usa</td><td>null</td><td>null</td></tr><tr><td>5</td><td>null</td><td>20000</td><td>usa</td><td>null</td><td>null</td></tr><tr><td>6</td><td>rahul</td><td>null</td><td>india</td><td>null</td><td>null</td></tr><tr><td>1</td><td>manish</td><td>10000</td><td>india</td><td>null</td><td>null</td></tr><tr><td>2</td><td>rani</td><td>20000</td><td>usa</td><td>null</td><td>null</td></tr><tr><td>3</td><td>rinku</td><td>55000</td><td>india</td><td>null</td><td>null</td></tr><tr><td>4</td><td>neha</td><td>12000</td><td>usa</td><td>null</td><td>null</td></tr><tr><td>5</td><td>null</td><td>20000</td><td>usa</td><td>null</td><td>null</td></tr><tr><td>6</td><td>rahul</td><td>null</td><td>india</td><td>null</td><td>null</td></tr></tbody></table></div>"
      ]
     },
     "metadata": {
      "application/vnd.databricks.v1+output": {
       "addedWidgets": {},
       "aggData": [],
       "aggError": "",
       "aggOverflow": false,
       "aggSchema": [],
       "aggSeriesLimitReached": false,
       "aggType": "",
       "arguments": {},
       "columnCustomDisplayInfos": {},
       "data": [
        [
         1,
         "manish",
         10000,
         "india",
         null,
         null
        ],
        [
         2,
         "rani",
         20000,
         "usa",
         null,
         null
        ],
        [
         3,
         "rinku",
         55000,
         "india",
         null,
         null
        ],
        [
         4,
         "neha",
         12000,
         "usa",
         null,
         null
        ],
        [
         5,
         null,
         20000,
         "usa",
         null,
         null
        ],
        [
         6,
         "rahul",
         null,
         "india",
         null,
         null
        ],
        [
         1,
         "manish",
         10000,
         "india",
         null,
         null
        ],
        [
         2,
         "rani",
         20000,
         "usa",
         null,
         null
        ],
        [
         3,
         "rinku",
         55000,
         "india",
         null,
         null
        ],
        [
         4,
         "neha",
         12000,
         "usa",
         null,
         null
        ],
        [
         5,
         null,
         20000,
         "usa",
         null,
         null
        ],
        [
         6,
         "rahul",
         null,
         "india",
         null,
         null
        ]
       ],
       "datasetInfos": [],
       "dbfsResultPath": null,
       "isJsonSchema": true,
       "metadata": {},
       "overflow": false,
       "plotOptions": {
        "customPlotOptions": {},
        "displayType": "table",
        "pivotAggregation": null,
        "pivotColumns": null,
        "xColumns": null,
        "yColumns": null
       },
       "removedWidgets": [],
       "schema": [
        {
         "metadata": "{}",
         "name": "emp_id",
         "type": "\"integer\""
        },
        {
         "metadata": "{}",
         "name": "name",
         "type": "\"string\""
        },
        {
         "metadata": "{}",
         "name": "salary",
         "type": "\"integer\""
        },
        {
         "metadata": "{}",
         "name": "address",
         "type": "\"string\""
        },
        {
         "metadata": "{}",
         "name": "loc",
         "type": "\"string\""
        },
        {
         "metadata": "{}",
         "name": "email",
         "type": "\"string\""
        }
       ],
       "type": "table"
      }
     },
     "output_type": "display_data"
    }
   ],
   "source": [
    "display(df2)"
   ]
  },
  {
   "cell_type": "code",
   "execution_count": 0,
   "metadata": {
    "application/vnd.databricks.v1+cell": {
     "cellMetadata": {
      "byteLimit": 2048000,
      "rowLimit": 10000
     },
     "inputWidgets": {},
     "nuid": "0e049aac-250e-4c49-b883-c68403790564",
     "showTitle": false,
     "tableResultSettingsMap": {},
     "title": ""
    }
   },
   "outputs": [
    {
     "output_type": "stream",
     "name": "stdout",
     "output_type": "stream",
     "text": [
      "root\n |-- emp_id: integer (nullable = true)\n |-- name: string (nullable = true)\n |-- salary: integer (nullable = true)\n |-- address: string (nullable = true)\n |-- loc: string (nullable = true)\n |-- email: string (nullable = true)\n\n"
     ]
    }
   ],
   "source": [
    "df2.printSchema()"
   ]
  },
  {
   "cell_type": "markdown",
   "metadata": {
    "application/vnd.databricks.v1+cell": {
     "cellMetadata": {},
     "inputWidgets": {},
     "nuid": "d54c6c38-3711-45e5-8845-d9f8e7d3addd",
     "showTitle": false,
     "tableResultSettingsMap": {},
     "title": ""
    }
   },
   "source": [
    "Another Way of Reading the File"
   ]
  },
  {
   "cell_type": "code",
   "execution_count": 0,
   "metadata": {
    "application/vnd.databricks.v1+cell": {
     "cellMetadata": {
      "byteLimit": 2048000,
      "rowLimit": 10000
     },
     "inputWidgets": {},
     "nuid": "3c24b930-e812-469c-8350-479f685b36db",
     "showTitle": true,
     "tableResultSettingsMap": {},
     "title": "Another Way of Reading the File"
    }
   },
   "outputs": [],
   "source": [
    "df3 = spark.read.format(\"csv\").options(header=True,inferSchema=True).load('/FileStore/tables/Emp_1.csv')"
   ]
  },
  {
   "cell_type": "code",
   "execution_count": 0,
   "metadata": {
    "application/vnd.databricks.v1+cell": {
     "cellMetadata": {
      "byteLimit": 2048000,
      "rowLimit": 10000
     },
     "inputWidgets": {},
     "nuid": "0402fbd3-a8f8-4aa2-add2-fc818973ea45",
     "showTitle": false,
     "tableResultSettingsMap": {},
     "title": ""
    }
   },
   "outputs": [
    {
     "output_type": "display_data",
     "data": {
      "text/html": [
       "<style scoped>\n",
       "  .table-result-container {\n",
       "    max-height: 300px;\n",
       "    overflow: auto;\n",
       "  }\n",
       "  table, th, td {\n",
       "    border: 1px solid black;\n",
       "    border-collapse: collapse;\n",
       "  }\n",
       "  th, td {\n",
       "    padding: 5px;\n",
       "  }\n",
       "  th {\n",
       "    text-align: left;\n",
       "  }\n",
       "</style><div class='table-result-container'><table class='table-result'><thead style='background-color: white'><tr><th>emp_id</th><th>name</th><th>salary</th><th>address</th><th>loc</th><th>email</th></tr></thead><tbody><tr><td>1</td><td>manish</td><td>10000</td><td>india</td><td>null</td><td>null</td></tr><tr><td>2</td><td>rani</td><td>20000</td><td>usa</td><td>null</td><td>null</td></tr><tr><td>3</td><td>rinku</td><td>55000</td><td>india</td><td>null</td><td>null</td></tr><tr><td>4</td><td>neha</td><td>12000</td><td>usa</td><td>null</td><td>null</td></tr><tr><td>5</td><td>null</td><td>20000</td><td>usa</td><td>null</td><td>null</td></tr><tr><td>6</td><td>rahul</td><td>null</td><td>india</td><td>null</td><td>null</td></tr><tr><td>1</td><td>manish</td><td>10000</td><td>india</td><td>null</td><td>null</td></tr><tr><td>2</td><td>rani</td><td>20000</td><td>usa</td><td>null</td><td>null</td></tr><tr><td>3</td><td>rinku</td><td>55000</td><td>india</td><td>null</td><td>null</td></tr><tr><td>4</td><td>neha</td><td>12000</td><td>usa</td><td>null</td><td>null</td></tr><tr><td>5</td><td>null</td><td>20000</td><td>usa</td><td>null</td><td>null</td></tr><tr><td>6</td><td>rahul</td><td>null</td><td>india</td><td>null</td><td>null</td></tr></tbody></table></div>"
      ]
     },
     "metadata": {
      "application/vnd.databricks.v1+output": {
       "addedWidgets": {},
       "aggData": [],
       "aggError": "",
       "aggOverflow": false,
       "aggSchema": [],
       "aggSeriesLimitReached": false,
       "aggType": "",
       "arguments": {},
       "columnCustomDisplayInfos": {},
       "data": [
        [
         1,
         "manish",
         10000,
         "india",
         null,
         null
        ],
        [
         2,
         "rani",
         20000,
         "usa",
         null,
         null
        ],
        [
         3,
         "rinku",
         55000,
         "india",
         null,
         null
        ],
        [
         4,
         "neha",
         12000,
         "usa",
         null,
         null
        ],
        [
         5,
         null,
         20000,
         "usa",
         null,
         null
        ],
        [
         6,
         "rahul",
         null,
         "india",
         null,
         null
        ],
        [
         1,
         "manish",
         10000,
         "india",
         null,
         null
        ],
        [
         2,
         "rani",
         20000,
         "usa",
         null,
         null
        ],
        [
         3,
         "rinku",
         55000,
         "india",
         null,
         null
        ],
        [
         4,
         "neha",
         12000,
         "usa",
         null,
         null
        ],
        [
         5,
         null,
         20000,
         "usa",
         null,
         null
        ],
        [
         6,
         "rahul",
         null,
         "india",
         null,
         null
        ]
       ],
       "datasetInfos": [],
       "dbfsResultPath": null,
       "isJsonSchema": true,
       "metadata": {},
       "overflow": false,
       "plotOptions": {
        "customPlotOptions": {},
        "displayType": "table",
        "pivotAggregation": null,
        "pivotColumns": null,
        "xColumns": null,
        "yColumns": null
       },
       "removedWidgets": [],
       "schema": [
        {
         "metadata": "{}",
         "name": "emp_id",
         "type": "\"integer\""
        },
        {
         "metadata": "{}",
         "name": "name",
         "type": "\"string\""
        },
        {
         "metadata": "{}",
         "name": "salary",
         "type": "\"integer\""
        },
        {
         "metadata": "{}",
         "name": "address",
         "type": "\"string\""
        },
        {
         "metadata": "{}",
         "name": "loc",
         "type": "\"string\""
        },
        {
         "metadata": "{}",
         "name": "email",
         "type": "\"string\""
        }
       ],
       "type": "table"
      }
     },
     "output_type": "display_data"
    }
   ],
   "source": [
    "display(df3)"
   ]
  },
  {
   "cell_type": "code",
   "execution_count": 0,
   "metadata": {
    "application/vnd.databricks.v1+cell": {
     "cellMetadata": {
      "byteLimit": 2048000,
      "rowLimit": 10000
     },
     "inputWidgets": {},
     "nuid": "57ba8af5-5985-4e96-8665-954cb7ab6807",
     "showTitle": false,
     "tableResultSettingsMap": {},
     "title": ""
    }
   },
   "outputs": [
    {
     "output_type": "stream",
     "name": "stdout",
     "output_type": "stream",
     "text": [
      "root\n |-- emp_id: integer (nullable = true)\n |-- name: string (nullable = true)\n |-- salary: integer (nullable = true)\n |-- address: string (nullable = true)\n |-- loc: string (nullable = true)\n |-- email: string (nullable = true)\n\n"
     ]
    }
   ],
   "source": [
    "df3.printSchema()"
   ]
  }
 ],
 "metadata": {
  "application/vnd.databricks.v1+notebook": {
   "computePreferences": null,
   "dashboards": [],
   "environmentMetadata": {
    "base_environment": "",
    "client": "1"
   },
   "language": "python",
   "notebookMetadata": {
    "pythonIndentUnit": 4
   },
   "notebookName": "PySpark_Tutorial",
   "widgets": {}
  }
 },
 "nbformat": 4,
 "nbformat_minor": 0
}
